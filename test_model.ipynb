{
 "cells": [
  {
   "cell_type": "code",
   "execution_count": 1,
   "metadata": {},
   "outputs": [
    {
     "name": "stderr",
     "output_type": "stream",
     "text": [
      "Using TensorFlow backend.\n"
     ]
    },
    {
     "name": "stdout",
     "output_type": "stream",
     "text": [
      "WARNING:tensorflow:From C:\\development\\Anaconda3\\envs\\berrytensor\\lib\\site-packages\\tensorflow\\python\\framework\\op_def_library.py:263: colocate_with (from tensorflow.python.framework.ops) is deprecated and will be removed in a future version.\n",
      "Instructions for updating:\n",
      "Colocations handled automatically by placer.\n",
      "WARNING:tensorflow:From C:\\development\\Anaconda3\\envs\\berrytensor\\lib\\site-packages\\keras\\backend\\tensorflow_backend.py:3445: calling dropout (from tensorflow.python.ops.nn_ops) with keep_prob is deprecated and will be removed in a future version.\n",
      "Instructions for updating:\n",
      "Please use `rate` instead of `keep_prob`. Rate should be set to `rate = 1 - keep_prob`.\n",
      "WARNING:tensorflow:From C:\\development\\Anaconda3\\envs\\berrytensor\\lib\\site-packages\\tensorflow\\python\\ops\\math_ops.py:3066: to_int32 (from tensorflow.python.ops.math_ops) is deprecated and will be removed in a future version.\n",
      "Instructions for updating:\n",
      "Use tf.cast instead.\n"
     ]
    },
    {
     "name": "stderr",
     "output_type": "stream",
     "text": [
      "C:\\development\\Anaconda3\\envs\\berrytensor\\lib\\site-packages\\keras\\engine\\saving.py:327: UserWarning: Error in loading the saved optimizer state. As a result, your model is starting with a freshly initialized optimizer.\n",
      "  warnings.warn('Error in loading the saved optimizer '\n"
     ]
    }
   ],
   "source": [
    "from keras.models import load_model\n",
    "\n",
    "SENET = load_model(\"C:\\\\development\\\\NDSC_junior\\\\\\SRP\\models\\\\\" + \"SENET\")\n",
    "SENET.load_weights(\"C:\\\\development\\\\NDSC_junior\\\\SRP\\\\weights\\\\senet\\\\weights-improvement-16-0.00.hdf5\")\n",
    "VGG = load_model(\"C:\\\\development\\\\NDSC_junior\\\\\\SRP\\models\\\\\" + \"vgg16\")\n",
    "VGG.load_weights(\"C:\\\\development\\\\NDSC_junior\\\\SRP\\\\weights\\\\vgg16\\\\weights-improvement-09-0.09.hdf5\")\n"
   ]
  },
  {
   "cell_type": "code",
   "execution_count": 4,
   "metadata": {
    "scrolled": true
   },
   "outputs": [],
   "source": [
    "RESNET = load_model(\"C:\\\\development\\\\NDSC_junior\\\\\\SRP\\models\\\\RESNET50\")\n",
    "RESNET.load_weights(\"C:\\\\development\\\\NDSC_junior\\\\SRP\\\\weights\\\\resnet50\\\\weights-improvement-12-0.00.hdf5\")\n"
   ]
  },
  {
   "cell_type": "markdown",
   "metadata": {},
   "source": [
    "import os\n",
    "import numpy as np\n",
    "from keras.preprocessing.image import load_img, img_to_array\n",
    "from tensorflow.keras.applications.resnet50 import preprocess_input\n",
    "\n",
    "\n",
    "\n",
    "\n",
    "#Prepare Test Data\n",
    "path = \"C:\\\\development\\\\NDSC_junior\\\\SRP\\\\data\\\\\"\n",
    "x_test=[]\n",
    "y_test=[]\n",
    "person_folders=os.listdir(path+'\\\\test2')\n",
    "for i,person in enumerate(person_folders):\n",
    "    image_names=os.listdir(path + 'test2\\\\'+person+'\\\\')\n",
    "    for image_name in image_names:\n",
    "        img=load_img(path+\"\\\\test2\\\\\"+person+'\\\\'+image_name,target_size=(224,224))\n",
    "        img=img_to_array(img)\n",
    "        img=np.expand_dims(img,axis=0)\n",
    "        img=preprocess_input(img)\n",
    "        img_encode=model(img)\n",
    "        x_test.append(np.squeeze(K.eval(img_encode)).tolist())\n",
    "        y_test.append(i)"
   ]
  },
  {
   "cell_type": "code",
   "execution_count": 78,
   "metadata": {},
   "outputs": [],
   "source": [
    "x_test=[]\n",
    "y_test=[]\n",
    "person_folders=os.listdir(path+'\\\\test2')\n",
    "for i,person in enumerate(person_folders):\n",
    "    image_names=os.listdir(path + 'test2\\\\'+person+'\\\\')\n",
    "    for image_name in image_names:\n",
    "        img=load_img(path+\"\\\\test2\\\\\"+person+'\\\\'+image_name,target_size=(224,224))\n",
    "        img=img_to_array(img)\n",
    "        img=np.expand_dims(img,axis=0)\n",
    "        img=preprocess_input(img)\n",
    "        x_test.append(img)\n",
    "        y_test.append(i)"
   ]
  },
  {
   "cell_type": "code",
   "execution_count": null,
   "metadata": {},
   "outputs": [],
   "source": []
  },
  {
   "cell_type": "code",
   "execution_count": 95,
   "metadata": {},
   "outputs": [],
   "source": [
    "i = 2"
   ]
  },
  {
   "cell_type": "code",
   "execution_count": 96,
   "metadata": {},
   "outputs": [
    {
     "name": "stdout",
     "output_type": "stream",
     "text": [
      "[[0. 0. 0. 0. 1.]]\n"
     ]
    }
   ],
   "source": [
    "print(RESNET.predict(x_test[i]))"
   ]
  },
  {
   "cell_type": "code",
   "execution_count": 97,
   "metadata": {},
   "outputs": [
    {
     "name": "stdout",
     "output_type": "stream",
     "text": [
      "[[0. 0. 1. 0. 0.]]\n"
     ]
    }
   ],
   "source": [
    "print(VGG.predict(x_test[i]))"
   ]
  },
  {
   "cell_type": "code",
   "execution_count": 98,
   "metadata": {},
   "outputs": [
    {
     "name": "stdout",
     "output_type": "stream",
     "text": [
      "[[0. 1. 0. 0. 0.]]\n"
     ]
    }
   ],
   "source": [
    "print(SENET.predict(x_test[i]))"
   ]
  },
  {
   "cell_type": "code",
   "execution_count": null,
   "metadata": {},
   "outputs": [],
   "source": []
  },
  {
   "cell_type": "code",
   "execution_count": null,
   "metadata": {},
   "outputs": [],
   "source": []
  }
 ],
 "metadata": {
  "kernelspec": {
   "display_name": "Python 3",
   "language": "python",
   "name": "python3"
  },
  "language_info": {
   "codemirror_mode": {
    "name": "ipython",
    "version": 3
   },
   "file_extension": ".py",
   "mimetype": "text/x-python",
   "name": "python",
   "nbconvert_exporter": "python",
   "pygments_lexer": "ipython3",
   "version": "3.7.3"
  }
 },
 "nbformat": 4,
 "nbformat_minor": 2
}

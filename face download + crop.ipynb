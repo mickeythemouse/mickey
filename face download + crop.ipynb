{
 "cells": [
  {
   "cell_type": "code",
   "execution_count": 1,
   "metadata": {},
   "outputs": [
    {
     "name": "stderr",
     "output_type": "stream",
     "text": [
      "Using TensorFlow backend.\n"
     ]
    },
    {
     "name": "stdout",
     "output_type": "stream",
     "text": [
      "0.1.0\n"
     ]
    }
   ],
   "source": [
    "# confirm mtcnn was installed correctly\n",
    "import mtcnn\n",
    "# print version\n",
    "print(mtcnn.__version__)"
   ]
  },
  {
   "cell_type": "code",
   "execution_count": 6,
   "metadata": {},
   "outputs": [],
   "source": [
    "import os\n",
    "\n",
    "train_list = list()\n",
    "for root, dirs, files in os.walk(\"C:\\\\development\\\\NDSC_junior\\\\SRP\\\\data\\\\train\\\\\", topdown=False):\n",
    "    for name in dirs:\n",
    "        train_list.append(os.path.join(root, name)+\"\\\\\")\n",
    "\n",
    "for folder in train_list:\n",
    "    newpath = folder.replace(\"train\", \"train2\")\n",
    "    if not os.path.exists(newpath):\n",
    "        os.makedirs(newpath)\n",
    "    \n",
    "val_list = list()\n",
    "for root, dirs, files in os.walk(\"C:\\\\development\\\\NDSC_junior\\\\SRP\\\\data\\\\val\\\\\", topdown=False):\n",
    "    for name in dirs:\n",
    "        newpath=(os.path.join(root, name) )\n",
    "        val_list.append(newpath + \"\\\\\")\n",
    "\n",
    "for folder in val_list:\n",
    "    newpath = folder.replace(\"val\", \"val2\")\n",
    "    if not os.path.exists(newpath):\n",
    "        os.makedirs(newpath)\n",
    "\n",
    "test_list = list()\n",
    "for root, dirs, files in os.walk(\"C:\\\\development\\\\NDSC_junior\\\\SRP\\\\data\\\\test\\\\\", topdown=False):\n",
    "    for name in dirs:\n",
    "        newpath=(os.path.join(root, name) )\n",
    "        test_list.append(newpath + \"\\\\\")\n",
    "\n",
    "\n",
    "for folder in test_list:\n",
    "    newpath = folder.replace(\"test\", \"test2\")\n",
    "    if not os.path.exists(newpath):\n",
    "        os.makedirs(newpath)   \n"
   ]
  },
  {
   "cell_type": "code",
   "execution_count": 7,
   "metadata": {},
   "outputs": [
    {
     "name": "stdout",
     "output_type": "stream",
     "text": [
      "['C:\\\\development\\\\NDSC_junior\\\\SRP\\\\data\\\\test\\\\ben_afflek\\\\', 'C:\\\\development\\\\NDSC_junior\\\\SRP\\\\data\\\\test\\\\elton_john\\\\', 'C:\\\\development\\\\NDSC_junior\\\\SRP\\\\data\\\\test\\\\jerry_seinfeld\\\\', 'C:\\\\development\\\\NDSC_junior\\\\SRP\\\\data\\\\test\\\\madonna\\\\', 'C:\\\\development\\\\NDSC_junior\\\\SRP\\\\data\\\\test\\\\mindy_kaling\\\\']\n"
     ]
    }
   ],
   "source": [
    "print(test_list)"
   ]
  },
  {
   "cell_type": "code",
   "execution_count": 8,
   "metadata": {
    "scrolled": true
   },
   "outputs": [],
   "source": [
    "# demonstrate face detection on 5 Celebrity Faces Dataset\n",
    "from os import listdir\n",
    "from PIL import Image\n",
    "from numpy import asarray\n",
    "from matplotlib import pyplot\n",
    "from mtcnn.mtcnn import MTCNN\n",
    "\n",
    "\n",
    "# extract a single face from a given photograph\n",
    "def extract_face(filename, required_size=(224, 224)):\n",
    "\t# load image from file\n",
    "\timage = Image.open(filename)\n",
    "\t# convert to RGB, if needed\n",
    "\timage = image.convert('RGB')\n",
    "\t# convert to array\n",
    "\tpixels = asarray(image)\n",
    "\t# create the detector, using default weights\n",
    "\tdetector = MTCNN()\n",
    "\t# detect faces in the image\n",
    "\tresults = detector.detect_faces(pixels)\n",
    "\t# extract the bounding box from the first face\n",
    "\tx1, y1, width, height = results[0]['box']\n",
    "\t# bug fix\n",
    "\tx1, y1 = abs(x1), abs(y1)\n",
    "\tx2, y2 = x1 + width, y1 + height\n",
    "\t# extract the face\n",
    "\tface = pixels[y1:y2, x1:x2]\n",
    "\t# resize pixels to the model size\n",
    "\timage = Image.fromarray(face)\n",
    "\timage = image.resize(required_size)\n",
    "\tface_array = asarray(image)\n",
    "\treturn face_array\n",
    "\n",
    "\n"
   ]
  },
  {
   "cell_type": "code",
   "execution_count": null,
   "metadata": {},
   "outputs": [],
   "source": [
    "for folder in train_list:\n",
    "    folder1 = folder.replace(\"train\",\"train2\")\n",
    "    i = 1\n",
    "    # enumerate files\n",
    "    for filename in listdir(folder):\n",
    "        # path\n",
    "        path = folder + filename\n",
    "        # get face\n",
    "        face = extract_face(path)\n",
    "        print(i, face.shape)\n",
    "        im = Image.fromarray(face)\n",
    "        im.save(folder1 + filename)\n",
    "        i += 1\n",
    "for folder in val_list:\n",
    "    folder1 = folder.replace(\"val\",\"val2\")\n",
    "    i = 1\n",
    "    # enumerate files\n",
    "    for filename in listdir(folder):\n",
    "        # path\n",
    "        path = folder + filename\n",
    "        # get face\n",
    "        face = extract_face(path)\n",
    "        print(i, face.shape)\n",
    "        im = Image.fromarray(face)\n",
    "        im.save(folder1 + filename)\n",
    "        i += 1"
   ]
  },
  {
   "cell_type": "code",
   "execution_count": 9,
   "metadata": {},
   "outputs": [
    {
     "name": "stdout",
     "output_type": "stream",
     "text": [
      "WARNING:tensorflow:From C:\\development\\Anaconda3\\envs\\berrytensor\\lib\\site-packages\\tensorflow\\python\\framework\\op_def_library.py:263: colocate_with (from tensorflow.python.framework.ops) is deprecated and will be removed in a future version.\n",
      "Instructions for updating:\n",
      "Colocations handled automatically by placer.\n",
      "1 (224, 224, 3)\n",
      "1 (224, 224, 3)\n",
      "1 (224, 224, 3)\n",
      "1 (224, 224, 3)\n",
      "1 (224, 224, 3)\n"
     ]
    }
   ],
   "source": [
    "for folder in test_list:\n",
    "    folder1 = folder.replace(\"test\",\"test2\")\n",
    "    i = 1\n",
    "    # enumerate files\n",
    "    for filename in listdir(folder):\n",
    "        # path\n",
    "        path = folder + filename\n",
    "        # get face\n",
    "        face = extract_face(path)\n",
    "        print(i, face.shape)\n",
    "        im = Image.fromarray(face)\n",
    "        im.save(folder1 + filename)\n",
    "        i += 1"
   ]
  },
  {
   "cell_type": "code",
   "execution_count": null,
   "metadata": {},
   "outputs": [],
   "source": []
  }
 ],
 "metadata": {
  "kernelspec": {
   "display_name": "Python 3",
   "language": "python",
   "name": "python3"
  },
  "language_info": {
   "codemirror_mode": {
    "name": "ipython",
    "version": 3
   },
   "file_extension": ".py",
   "mimetype": "text/x-python",
   "name": "python",
   "nbconvert_exporter": "python",
   "pygments_lexer": "ipython3",
   "version": "3.7.3"
  }
 },
 "nbformat": 4,
 "nbformat_minor": 2
}

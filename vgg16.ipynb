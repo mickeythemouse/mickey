{
 "cells": [
  {
   "cell_type": "code",
   "execution_count": 27,
   "metadata": {},
   "outputs": [],
   "source": [
    "from keras.models import Sequential\n",
    "from keras.layers import Dense, Dropout, Flatten\n",
    "from keras.layers import BatchNormalization\n",
    "from keras.layers import Activation\n",
    "from keras_vggface.vggface import VGGFace\n"
   ]
  },
  {
   "cell_type": "code",
   "execution_count": 28,
   "metadata": {
    "scrolled": true
   },
   "outputs": [],
   "source": [
    "#custom parameters\n",
    "nb_class = 5\n",
    "hidden_dim = 512\n",
    "\n",
    "vgg_model = VGGFace(model='vgg16',include_top=False, input_shape=(224, 224, 3))"
   ]
  },
  {
   "cell_type": "code",
   "execution_count": 29,
   "metadata": {
    "scrolled": true
   },
   "outputs": [],
   "source": [
    "#vgg_model.load_weights(\"C:\\\\Users\\\\isaac yang\\\\.keras\\\\models\\\\vggface\\\\rcmalli_vggface_tf_notop_vgg16.h5\")"
   ]
  },
  {
   "cell_type": "code",
   "execution_count": 30,
   "metadata": {
    "scrolled": true
   },
   "outputs": [
    {
     "name": "stdout",
     "output_type": "stream",
     "text": [
      "_________________________________________________________________\n",
      "Layer (type)                 Output Shape              Param #   \n",
      "=================================================================\n",
      "input_3 (InputLayer)         (None, 224, 224, 3)       0         \n",
      "_________________________________________________________________\n",
      "conv1_1 (Conv2D)             (None, 224, 224, 64)      1792      \n",
      "_________________________________________________________________\n",
      "conv1_2 (Conv2D)             (None, 224, 224, 64)      36928     \n",
      "_________________________________________________________________\n",
      "pool1 (MaxPooling2D)         (None, 112, 112, 64)      0         \n",
      "_________________________________________________________________\n",
      "conv2_1 (Conv2D)             (None, 112, 112, 128)     73856     \n",
      "_________________________________________________________________\n",
      "conv2_2 (Conv2D)             (None, 112, 112, 128)     147584    \n",
      "_________________________________________________________________\n",
      "pool2 (MaxPooling2D)         (None, 56, 56, 128)       0         \n",
      "_________________________________________________________________\n",
      "conv3_1 (Conv2D)             (None, 56, 56, 256)       295168    \n",
      "_________________________________________________________________\n",
      "conv3_2 (Conv2D)             (None, 56, 56, 256)       590080    \n",
      "_________________________________________________________________\n",
      "conv3_3 (Conv2D)             (None, 56, 56, 256)       590080    \n",
      "_________________________________________________________________\n",
      "pool3 (MaxPooling2D)         (None, 28, 28, 256)       0         \n",
      "_________________________________________________________________\n",
      "conv4_1 (Conv2D)             (None, 28, 28, 512)       1180160   \n",
      "_________________________________________________________________\n",
      "conv4_2 (Conv2D)             (None, 28, 28, 512)       2359808   \n",
      "_________________________________________________________________\n",
      "conv4_3 (Conv2D)             (None, 28, 28, 512)       2359808   \n",
      "_________________________________________________________________\n",
      "pool4 (MaxPooling2D)         (None, 14, 14, 512)       0         \n",
      "_________________________________________________________________\n",
      "conv5_1 (Conv2D)             (None, 14, 14, 512)       2359808   \n",
      "_________________________________________________________________\n",
      "conv5_2 (Conv2D)             (None, 14, 14, 512)       2359808   \n",
      "_________________________________________________________________\n",
      "conv5_3 (Conv2D)             (None, 14, 14, 512)       2359808   \n",
      "_________________________________________________________________\n",
      "pool5 (MaxPooling2D)         (None, 7, 7, 512)         0         \n",
      "=================================================================\n",
      "Total params: 14,714,688\n",
      "Trainable params: 14,714,688\n",
      "Non-trainable params: 0\n",
      "_________________________________________________________________\n"
     ]
    }
   ],
   "source": [
    "vgg_model.summary()"
   ]
  },
  {
   "cell_type": "code",
   "execution_count": 31,
   "metadata": {},
   "outputs": [],
   "source": [
    "vgg_model.trainable = False"
   ]
  },
  {
   "cell_type": "code",
   "execution_count": 32,
   "metadata": {},
   "outputs": [],
   "source": [
    "classifier_model=Sequential()\n"
   ]
  },
  {
   "cell_type": "code",
   "execution_count": 33,
   "metadata": {
    "scrolled": true
   },
   "outputs": [],
   "source": [
    "classifier_model.add(vgg_model)\n",
    "classifier_model.add(Flatten())\n",
    "# classifier_model.add(BatchNormalization())\n",
    "# classifier_model.add(Activation('relu'))\n",
    "# classifier_model.add(Dropout(0.3))\n",
    "# classifier_model.add(Dense(units=10,kernel_initializer='glorot_uniform'))\n",
    "# classifier_model.add(BatchNormalization())\n",
    "# classifier_model.add(Activation('relu'))\n",
    "# classifier_model.add(Dropout(0.2))\n",
    "classifier_model.add(Dense(nb_class, activation = 'softmax'))\n"
   ]
  },
  {
   "cell_type": "code",
   "execution_count": 34,
   "metadata": {
    "scrolled": true
   },
   "outputs": [
    {
     "name": "stdout",
     "output_type": "stream",
     "text": [
      "_________________________________________________________________\n",
      "Layer (type)                 Output Shape              Param #   \n",
      "=================================================================\n",
      "vggface_vgg16 (Model)        (None, 7, 7, 512)         14714688  \n",
      "_________________________________________________________________\n",
      "flatten_1 (Flatten)          (None, 25088)             0         \n",
      "_________________________________________________________________\n",
      "batch_normalization_7 (Batch (None, 25088)             100352    \n",
      "_________________________________________________________________\n",
      "activation_7 (Activation)    (None, 25088)             0         \n",
      "_________________________________________________________________\n",
      "dropout_7 (Dropout)          (None, 25088)             0         \n",
      "_________________________________________________________________\n",
      "dense_8 (Dense)              (None, 10)                250890    \n",
      "_________________________________________________________________\n",
      "batch_normalization_8 (Batch (None, 10)                40        \n",
      "_________________________________________________________________\n",
      "activation_8 (Activation)    (None, 10)                0         \n",
      "_________________________________________________________________\n",
      "dropout_8 (Dropout)          (None, 10)                0         \n",
      "_________________________________________________________________\n",
      "dense_9 (Dense)              (None, 5)                 55        \n",
      "=================================================================\n",
      "Total params: 15,066,025\n",
      "Trainable params: 301,141\n",
      "Non-trainable params: 14,764,884\n",
      "_________________________________________________________________\n"
     ]
    }
   ],
   "source": [
    "model = classifier_model\n",
    "\n",
    "model.summary()"
   ]
  },
  {
   "cell_type": "code",
   "execution_count": 35,
   "metadata": {},
   "outputs": [],
   "source": [
    "from keras.preprocessing.image import ImageDataGenerator\n",
    "img_width = img_height = 224\n",
    "channels = 3\n",
    "datagen = ImageDataGenerator(\n",
    "    featurewise_center=True,\n",
    "    zca_whitening=True,\n",
    "    zca_epsilon=1e-06,\n",
    "    #rotation_range=40, #I'm thinking if a person tilts his head it will be 40 degrees maximum\n",
    "    #width_shift_range=0.5, #If up to half the person's face is visible width-wise\n",
    "    #height_shift_range=0.5, #If up to half the person's face is visible height-wise\n",
    "    #brightness_range=[0.2,2.0], #20% or 200% brightness\n",
    "    #shear_range=10.0, #putting it very small here because I can't find any tutorials with exact values of good shear range angles\n",
    "    #zoom_range=[0.3,3], #zooming up to 3 times and minimizing up to 3 times\n",
    "    #channel_shift_range= 200, #Increases color variation in case someone's face suddenly becomes very tanned, can check the rgb values table\n",
    "    fill_mode=\"nearest\",\n",
    "    horizontal_flip=True,\n",
    "    rescale=1./255,\n",
    "    validation_split=0.3,\n",
    ")\n",
    "\n"
   ]
  },
  {
   "cell_type": "code",
   "execution_count": 36,
   "metadata": {},
   "outputs": [
    {
     "name": "stdout",
     "output_type": "stream",
     "text": [
      "Found 93 images belonging to 5 classes.\n",
      "Found 25 images belonging to 5 classes.\n"
     ]
    }
   ],
   "source": [
    "batch_size = 16\n",
    "train_it = datagen.flow_from_directory('data/train2/',\n",
    "                                       target_size = (img_height, img_width),\n",
    "                                       class_mode='categorical', \n",
    "                                       batch_size=batch_size)\n",
    "\n",
    "val_it = datagen.flow_from_directory('data/val2/', \n",
    "                                    class_mode='categorical',\n",
    "                                    target_size = (img_height, img_width),\n",
    "                                    batch_size=batch_size)\n"
   ]
  },
  {
   "cell_type": "code",
   "execution_count": 37,
   "metadata": {},
   "outputs": [],
   "source": [
    "from keras.callbacks import ModelCheckpoint\n",
    "from keras.callbacks import EarlyStopping\n",
    "filepath=\"C:\\\\development\\\\NDSC_junior\\\\SRP\\\\weights\\\\vgg16\\\\weights-improvement-{epoch:02d}-{val_loss:.2f}.hdf5\"\n",
    "\n",
    "# earlystop = EarlyStopping(monitor = 'val_loss',\n",
    "#                          min_delta = 0,\n",
    "#                          patience = 3,\n",
    "#                          verbose = 1,\n",
    "#                          restore_best_weights = True)\n",
    "checkpoint = ModelCheckpoint(filepath,\n",
    "                             monitor='val_loss', \n",
    "                             verbose=1,\n",
    "                             save_best_only=True, \n",
    "                             mode='min')\n",
    "\n",
    "nb_train_samples = 64\n",
    "nb_validation_samples = 16\n",
    "\n",
    "epochs = 5\n",
    "steps_per_epoch = nb_train_samples/batch_size\n",
    "validation_steps = nb_validation_samples/batch_size\n",
    "\n",
    "from keras.callbacks import ReduceLROnPlateau\n",
    "\n",
    "reduce_lr = ReduceLROnPlateau(monitor='val_loss', factor=0.5, min_delta = 0.0001, patience=3, min_lr=0, cooldown = 0)\n",
    "callbacks = [checkpoint, reduce_lr]\n",
    "\n",
    "\n",
    "model.compile(loss = 'categorical_crossentropy',\n",
    "             optimizer = 'Adam',\n",
    "             metrics = ['accuracy'])"
   ]
  },
  {
   "cell_type": "code",
   "execution_count": 38,
   "metadata": {
    "scrolled": true
   },
   "outputs": [
    {
     "name": "stdout",
     "output_type": "stream",
     "text": [
      "Epoch 1/5\n",
      "4/4 [==============================] - 28s 7s/step - loss: 1.6897 - acc: 0.2969 - val_loss: 0.9055 - val_acc: 0.6875\n",
      "\n",
      "Epoch 00001: val_loss improved from inf to 0.90551, saving model to C:\\development\\NDSC_junior\\SRP\\weights\\weights-improvement-01-0.91.hdf5\n",
      "Epoch 2/5\n",
      "4/4 [==============================] - 23s 6s/step - loss: 1.2014 - acc: 0.5667 - val_loss: 1.0700 - val_acc: 0.6667\n",
      "\n",
      "Epoch 00002: val_loss did not improve from 0.90551\n",
      "Epoch 3/5\n",
      "4/4 [==============================] - 25s 6s/step - loss: 1.0038 - acc: 0.6973 - val_loss: 0.6858 - val_acc: 0.7500\n",
      "\n",
      "Epoch 00003: val_loss improved from 0.90551 to 0.68584, saving model to C:\\development\\NDSC_junior\\SRP\\weights\\weights-improvement-03-0.69.hdf5\n",
      "Epoch 4/5\n",
      "4/4 [==============================] - 24s 6s/step - loss: 0.8594 - acc: 0.7500 - val_loss: 0.6569 - val_acc: 0.8889\n",
      "\n",
      "Epoch 00004: val_loss improved from 0.68584 to 0.65691, saving model to C:\\development\\NDSC_junior\\SRP\\weights\\weights-improvement-04-0.66.hdf5\n",
      "Epoch 5/5\n",
      "4/4 [==============================] - 29s 7s/step - loss: 0.8168 - acc: 0.8422 - val_loss: 0.4953 - val_acc: 0.9375\n",
      "\n",
      "Epoch 00005: val_loss improved from 0.65691 to 0.49527, saving model to C:\\development\\NDSC_junior\\SRP\\weights\\weights-improvement-05-0.50.hdf5\n"
     ]
    },
    {
     "data": {
      "text/plain": [
       "<keras.callbacks.History at 0x2a90a2c88d0>"
      ]
     },
     "execution_count": 38,
     "metadata": {},
     "output_type": "execute_result"
    }
   ],
   "source": [
    "model.fit_generator(train_it, \n",
    "                    validation_data = val_it, \n",
    "                    steps_per_epoch=steps_per_epoch, \n",
    "                    validation_steps=validation_steps, \n",
    "                    epochs = epochs, \n",
    "                    callbacks= callbacks)"
   ]
  },
  {
   "cell_type": "code",
   "execution_count": null,
   "metadata": {},
   "outputs": [],
   "source": []
  },
  {
   "cell_type": "code",
   "execution_count": null,
   "metadata": {},
   "outputs": [],
   "source": []
  },
  {
   "cell_type": "code",
   "execution_count": null,
   "metadata": {},
   "outputs": [],
   "source": []
  },
  {
   "cell_type": "code",
   "execution_count": null,
   "metadata": {},
   "outputs": [],
   "source": []
  },
  {
   "cell_type": "code",
   "execution_count": null,
   "metadata": {},
   "outputs": [],
   "source": []
  },
  {
   "cell_type": "code",
   "execution_count": null,
   "metadata": {},
   "outputs": [],
   "source": []
  }
 ],
 "metadata": {
  "kernelspec": {
   "display_name": "Python 3",
   "language": "python",
   "name": "python3"
  },
  "language_info": {
   "codemirror_mode": {
    "name": "ipython",
    "version": 3
   },
   "file_extension": ".py",
   "mimetype": "text/x-python",
   "name": "python",
   "nbconvert_exporter": "python",
   "pygments_lexer": "ipython3",
   "version": "3.7.3"
  }
 },
 "nbformat": 4,
 "nbformat_minor": 2
}

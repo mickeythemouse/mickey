{
 "cells": [
  {
   "cell_type": "code",
   "execution_count": 1,
   "metadata": {},
   "outputs": [
    {
     "name": "stderr",
     "output_type": "stream",
     "text": [
      "Using TensorFlow backend.\n"
     ]
    }
   ],
   "source": [
    "from keras.models import Sequential\n",
    "from keras.layers import Dense, Dropout, Flatten\n",
    "from keras.layers import BatchNormalization\n",
    "from keras.layers import Activation\n",
    "from keras_vggface.vggface import VGGFace\n"
   ]
  },
  {
   "cell_type": "code",
   "execution_count": 2,
   "metadata": {
    "scrolled": true
   },
   "outputs": [
    {
     "name": "stdout",
     "output_type": "stream",
     "text": [
      "WARNING:tensorflow:From C:\\development\\Anaconda3\\envs\\berrytensor\\lib\\site-packages\\tensorflow\\python\\framework\\op_def_library.py:263: colocate_with (from tensorflow.python.framework.ops) is deprecated and will be removed in a future version.\n",
      "Instructions for updating:\n",
      "Colocations handled automatically by placer.\n"
     ]
    }
   ],
   "source": [
    "#custom parameters\n",
    "nb_class = 5\n",
    "hidden_dim = 512\n",
    "\n",
    "vgg_model = VGGFace(model='vgg16',include_top=False, input_shape=(224, 224, 3))"
   ]
  },
  {
   "cell_type": "code",
   "execution_count": 3,
   "metadata": {
    "scrolled": true
   },
   "outputs": [],
   "source": [
    "#vgg_model.load_weights(\"C:\\\\Users\\\\isaac yang\\\\.keras\\\\models\\\\vggface\\\\rcmalli_vggface_tf_notop_vgg16.h5\")"
   ]
  },
  {
   "cell_type": "code",
   "execution_count": 4,
   "metadata": {
    "scrolled": true
   },
   "outputs": [
    {
     "name": "stdout",
     "output_type": "stream",
     "text": [
      "_________________________________________________________________\n",
      "Layer (type)                 Output Shape              Param #   \n",
      "=================================================================\n",
      "input_1 (InputLayer)         (None, 224, 224, 3)       0         \n",
      "_________________________________________________________________\n",
      "conv1_1 (Conv2D)             (None, 224, 224, 64)      1792      \n",
      "_________________________________________________________________\n",
      "conv1_2 (Conv2D)             (None, 224, 224, 64)      36928     \n",
      "_________________________________________________________________\n",
      "pool1 (MaxPooling2D)         (None, 112, 112, 64)      0         \n",
      "_________________________________________________________________\n",
      "conv2_1 (Conv2D)             (None, 112, 112, 128)     73856     \n",
      "_________________________________________________________________\n",
      "conv2_2 (Conv2D)             (None, 112, 112, 128)     147584    \n",
      "_________________________________________________________________\n",
      "pool2 (MaxPooling2D)         (None, 56, 56, 128)       0         \n",
      "_________________________________________________________________\n",
      "conv3_1 (Conv2D)             (None, 56, 56, 256)       295168    \n",
      "_________________________________________________________________\n",
      "conv3_2 (Conv2D)             (None, 56, 56, 256)       590080    \n",
      "_________________________________________________________________\n",
      "conv3_3 (Conv2D)             (None, 56, 56, 256)       590080    \n",
      "_________________________________________________________________\n",
      "pool3 (MaxPooling2D)         (None, 28, 28, 256)       0         \n",
      "_________________________________________________________________\n",
      "conv4_1 (Conv2D)             (None, 28, 28, 512)       1180160   \n",
      "_________________________________________________________________\n",
      "conv4_2 (Conv2D)             (None, 28, 28, 512)       2359808   \n",
      "_________________________________________________________________\n",
      "conv4_3 (Conv2D)             (None, 28, 28, 512)       2359808   \n",
      "_________________________________________________________________\n",
      "pool4 (MaxPooling2D)         (None, 14, 14, 512)       0         \n",
      "_________________________________________________________________\n",
      "conv5_1 (Conv2D)             (None, 14, 14, 512)       2359808   \n",
      "_________________________________________________________________\n",
      "conv5_2 (Conv2D)             (None, 14, 14, 512)       2359808   \n",
      "_________________________________________________________________\n",
      "conv5_3 (Conv2D)             (None, 14, 14, 512)       2359808   \n",
      "_________________________________________________________________\n",
      "pool5 (MaxPooling2D)         (None, 7, 7, 512)         0         \n",
      "=================================================================\n",
      "Total params: 14,714,688\n",
      "Trainable params: 14,714,688\n",
      "Non-trainable params: 0\n",
      "_________________________________________________________________\n"
     ]
    }
   ],
   "source": [
    "vgg_model.summary()"
   ]
  },
  {
   "cell_type": "code",
   "execution_count": 5,
   "metadata": {},
   "outputs": [],
   "source": [
    "vgg_model.trainable = False"
   ]
  },
  {
   "cell_type": "code",
   "execution_count": 6,
   "metadata": {},
   "outputs": [],
   "source": [
    "classifier_model=Sequential()\n"
   ]
  },
  {
   "cell_type": "code",
   "execution_count": 7,
   "metadata": {
    "scrolled": true
   },
   "outputs": [],
   "source": [
    "classifier_model.add(vgg_model)\n",
    "classifier_model.add(Flatten())\n",
    "# classifier_model.add(BatchNormalization())\n",
    "# classifier_model.add(Activation('relu'))\n",
    "# classifier_model.add(Dropout(0.3))\n",
    "# classifier_model.add(Dense(units=10,kernel_initializer='glorot_uniform'))\n",
    "# classifier_model.add(BatchNormalization())\n",
    "# classifier_model.add(Activation('relu'))\n",
    "# classifier_model.add(Dropout(0.2))\n",
    "classifier_model.add(Dense(nb_class, activation = 'softmax'))\n"
   ]
  },
  {
   "cell_type": "code",
   "execution_count": 8,
   "metadata": {
    "scrolled": true
   },
   "outputs": [
    {
     "name": "stdout",
     "output_type": "stream",
     "text": [
      "_________________________________________________________________\n",
      "Layer (type)                 Output Shape              Param #   \n",
      "=================================================================\n",
      "vggface_vgg16 (Model)        (None, 7, 7, 512)         14714688  \n",
      "_________________________________________________________________\n",
      "flatten_1 (Flatten)          (None, 25088)             0         \n",
      "_________________________________________________________________\n",
      "dense_1 (Dense)              (None, 5)                 125445    \n",
      "=================================================================\n",
      "Total params: 14,840,133\n",
      "Trainable params: 125,445\n",
      "Non-trainable params: 14,714,688\n",
      "_________________________________________________________________\n"
     ]
    }
   ],
   "source": [
    "model = classifier_model\n",
    "\n",
    "model.summary()"
   ]
  },
  {
   "cell_type": "code",
   "execution_count": 9,
   "metadata": {},
   "outputs": [],
   "source": [
    "from keras.preprocessing.image import ImageDataGenerator\n",
    "img_width = img_height = 224\n",
    "channels = 3\n",
    "datagen = ImageDataGenerator(\n",
    "    featurewise_center=True,\n",
    "    zca_whitening=True,\n",
    "    zca_epsilon=1e-06,\n",
    "    #rotation_range=40, #I'm thinking if a person tilts his head it will be 40 degrees maximum\n",
    "    #width_shift_range=0.5, #If up to half the person's face is visible width-wise\n",
    "    #height_shift_range=0.5, #If up to half the person's face is visible height-wise\n",
    "    #brightness_range=[0.2,2.0], #20% or 200% brightness\n",
    "    #shear_range=10.0, #putting it very small here because I can't find any tutorials with exact values of good shear range angles\n",
    "    #zoom_range=[0.3,3], #zooming up to 3 times and minimizing up to 3 times\n",
    "    #channel_shift_range= 200, #Increases color variation in case someone's face suddenly becomes very tanned, can check the rgb values table\n",
    "    fill_mode=\"nearest\",\n",
    "    horizontal_flip=True,\n",
    "    rescale=1./255,\n",
    "    validation_split=0.3,\n",
    ")\n",
    "\n"
   ]
  },
  {
   "cell_type": "code",
   "execution_count": 10,
   "metadata": {},
   "outputs": [
    {
     "name": "stdout",
     "output_type": "stream",
     "text": [
      "Found 93 images belonging to 5 classes.\n",
      "Found 25 images belonging to 5 classes.\n"
     ]
    }
   ],
   "source": [
    "batch_size = 16\n",
    "train_it = datagen.flow_from_directory('data/train2/',\n",
    "                                       target_size = (img_height, img_width),\n",
    "                                       class_mode='categorical', \n",
    "                                       batch_size=batch_size)\n",
    "\n",
    "val_it = datagen.flow_from_directory('data/val2/', \n",
    "                                    class_mode='categorical',\n",
    "                                    target_size = (img_height, img_width),\n",
    "                                    batch_size=batch_size)\n"
   ]
  },
  {
   "cell_type": "code",
   "execution_count": 13,
   "metadata": {},
   "outputs": [],
   "source": [
    "from keras.callbacks import ModelCheckpoint\n",
    "from keras.callbacks import EarlyStopping\n",
    "filepath=\"C:\\\\development\\\\NDSC_junior\\\\SRP\\\\weights\\\\vgg16\\\\weights-improvement-{epoch:02d}-{val_loss:.2f}.hdf5\"\n",
    "\n",
    "# earlystop = EarlyStopping(monitor = 'val_loss',\n",
    "#                          min_delta = 0,\n",
    "#                          patience = 3,\n",
    "#                          verbose = 1,\n",
    "#                          restore_best_weights = True)\n",
    "checkpoint = ModelCheckpoint(filepath,\n",
    "                             monitor='val_loss', \n",
    "                             verbose=1,\n",
    "                             save_best_only=True, \n",
    "                             mode='min')\n",
    "\n",
    "nb_train_samples = 64\n",
    "nb_validation_samples = 16\n",
    "\n",
    "epochs = 10\n",
    "steps_per_epoch = nb_train_samples/batch_size\n",
    "validation_steps = nb_validation_samples/batch_size\n",
    "\n",
    "from keras.callbacks import ReduceLROnPlateau\n",
    "\n",
    "reduce_lr = ReduceLROnPlateau(monitor='val_loss', factor=0.5, min_delta = 0.0001, patience=3, min_lr=0, cooldown = 0)\n",
    "callbacks = [checkpoint, reduce_lr]\n",
    "\n",
    "\n",
    "model.compile(loss = 'categorical_crossentropy',\n",
    "             optimizer = 'Adam',\n",
    "             metrics = ['accuracy'])"
   ]
  },
  {
   "cell_type": "code",
   "execution_count": 14,
   "metadata": {
    "scrolled": true
   },
   "outputs": [
    {
     "name": "stdout",
     "output_type": "stream",
     "text": [
      "Epoch 1/10\n",
      "4/4 [==============================] - 48s 12s/step - loss: 1.5040 - acc: 0.3125 - val_loss: 1.0947 - val_acc: 0.7778\n",
      "\n",
      "Epoch 00001: val_loss improved from inf to 1.09473, saving model to C:\\development\\NDSC_junior\\SRP\\weights\\vgg16\\weights-improvement-01-1.09.hdf5\n",
      "Epoch 2/10\n",
      "4/4 [==============================] - 48s 12s/step - loss: 1.0612 - acc: 0.7805 - val_loss: 0.8466 - val_acc: 0.8125\n",
      "\n",
      "Epoch 00002: val_loss improved from 1.09473 to 0.84656, saving model to C:\\development\\NDSC_junior\\SRP\\weights\\vgg16\\weights-improvement-02-0.85.hdf5\n",
      "Epoch 3/10\n",
      "4/4 [==============================] - 35s 9s/step - loss: 0.6810 - acc: 0.9842 - val_loss: 0.5893 - val_acc: 1.0000\n",
      "\n",
      "Epoch 00003: val_loss improved from 0.84656 to 0.58926, saving model to C:\\development\\NDSC_junior\\SRP\\weights\\vgg16\\weights-improvement-03-0.59.hdf5\n",
      "Epoch 4/10\n",
      "4/4 [==============================] - 43s 11s/step - loss: 0.4635 - acc: 0.9844 - val_loss: 0.3203 - val_acc: 1.0000\n",
      "\n",
      "Epoch 00004: val_loss improved from 0.58926 to 0.32032, saving model to C:\\development\\NDSC_junior\\SRP\\weights\\vgg16\\weights-improvement-04-0.32.hdf5\n",
      "Epoch 5/10\n",
      "4/4 [==============================] - 36s 9s/step - loss: 0.3111 - acc: 0.9813 - val_loss: 0.3579 - val_acc: 1.0000\n",
      "\n",
      "Epoch 00005: val_loss did not improve from 0.32032\n",
      "Epoch 6/10\n",
      "4/4 [==============================] - 39s 10s/step - loss: 0.2521 - acc: 1.0000 - val_loss: 0.1953 - val_acc: 1.0000\n",
      "\n",
      "Epoch 00006: val_loss improved from 0.32032 to 0.19534, saving model to C:\\development\\NDSC_junior\\SRP\\weights\\vgg16\\weights-improvement-06-0.20.hdf5\n",
      "Epoch 7/10\n",
      "4/4 [==============================] - 25s 6s/step - loss: 0.2006 - acc: 0.9844 - val_loss: 0.1958 - val_acc: 1.0000\n",
      "\n",
      "Epoch 00007: val_loss did not improve from 0.19534\n",
      "Epoch 8/10\n",
      "4/4 [==============================] - 27s 7s/step - loss: 0.1130 - acc: 1.0000 - val_loss: 0.1838 - val_acc: 1.0000\n",
      "\n",
      "Epoch 00008: val_loss improved from 0.19534 to 0.18380, saving model to C:\\development\\NDSC_junior\\SRP\\weights\\vgg16\\weights-improvement-08-0.18.hdf5\n",
      "Epoch 9/10\n",
      "4/4 [==============================] - 24s 6s/step - loss: 0.1380 - acc: 1.0000 - val_loss: 0.0887 - val_acc: 1.0000\n",
      "\n",
      "Epoch 00009: val_loss improved from 0.18380 to 0.08865, saving model to C:\\development\\NDSC_junior\\SRP\\weights\\vgg16\\weights-improvement-09-0.09.hdf5\n",
      "Epoch 10/10\n",
      "4/4 [==============================] - 27s 7s/step - loss: 0.1020 - acc: 1.0000 - val_loss: 0.1081 - val_acc: 1.0000\n",
      "\n",
      "Epoch 00010: val_loss did not improve from 0.08865\n"
     ]
    },
    {
     "data": {
      "text/plain": [
       "<keras.callbacks.History at 0x232003f9780>"
      ]
     },
     "execution_count": 14,
     "metadata": {},
     "output_type": "execute_result"
    }
   ],
   "source": [
    "model.fit_generator(train_it, \n",
    "                    validation_data = val_it, \n",
    "                    steps_per_epoch=steps_per_epoch, \n",
    "                    validation_steps=validation_steps, \n",
    "                    epochs = epochs, \n",
    "                    callbacks= callbacks)"
   ]
  },
  {
   "cell_type": "code",
   "execution_count": 16,
   "metadata": {},
   "outputs": [],
   "source": [
    "model.save(\"C:\\\\development\\\\NDSC_junior\\\\\\SRP\\models\\\\\" + \"vgg16\")\n"
   ]
  },
  {
   "cell_type": "code",
   "execution_count": 19,
   "metadata": {},
   "outputs": [
    {
     "name": "stdout",
     "output_type": "stream",
     "text": [
      "{'ben_afflek': 0, 'elton_john': 1, 'jerry_seinfeld': 2, 'madonna': 3, 'mindy_kaling': 4}\n"
     ]
    }
   ],
   "source": [
    "print(train_it.class_indices)"
   ]
  },
  {
   "cell_type": "code",
   "execution_count": null,
   "metadata": {},
   "outputs": [],
   "source": []
  },
  {
   "cell_type": "code",
   "execution_count": null,
   "metadata": {},
   "outputs": [],
   "source": []
  },
  {
   "cell_type": "code",
   "execution_count": null,
   "metadata": {},
   "outputs": [],
   "source": []
  },
  {
   "cell_type": "code",
   "execution_count": null,
   "metadata": {},
   "outputs": [],
   "source": []
  }
 ],
 "metadata": {
  "kernelspec": {
   "display_name": "Python 3",
   "language": "python",
   "name": "python3"
  },
  "language_info": {
   "codemirror_mode": {
    "name": "ipython",
    "version": 3
   },
   "file_extension": ".py",
   "mimetype": "text/x-python",
   "name": "python",
   "nbconvert_exporter": "python",
   "pygments_lexer": "ipython3",
   "version": "3.7.3"
  }
 },
 "nbformat": 4,
 "nbformat_minor": 2
}
